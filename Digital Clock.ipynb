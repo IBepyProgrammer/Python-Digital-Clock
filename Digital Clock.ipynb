{
 "cells": [
  {
   "cell_type": "code",
   "execution_count": 1,
   "id": "1d4654fa",
   "metadata": {},
   "outputs": [],
   "source": [
    "from time import strftime\n",
    "# For this example we will only import the method \"strftime\" from the module time.\n",
    "# \"strftime\" returns a string representing the current date and time.\n",
    "from tkinter import Tk, Label\n",
    "# We will also import the tkinter library.\n",
    "# tkinter library is used to create simple graphical user interfaces.\n",
    "# The \"Tk\" method allows us to create the main window while using the tkinter library.\n",
    "# The \"Label\" from tkinter allows us to specify the container box\n",
    "#where we would place text or images."
   ]
  },
  {
   "cell_type": "markdown",
   "id": "d3afeb33",
   "metadata": {},
   "source": [
    "## We now create the window for the digital clock. "
   ]
  },
  {
   "cell_type": "code",
   "execution_count": 2,
   "id": "9b274b7d",
   "metadata": {},
   "outputs": [
    {
     "data": {
      "text/plain": [
       "''"
      ]
     },
     "execution_count": 2,
     "metadata": {},
     "output_type": "execute_result"
    }
   ],
   "source": [
    "clock_window = Tk()\n",
    "clock_window.title(\"Python Clock\")\n",
    "clock_window.geometry(\"300x100\")\n",
    "clock_window.configure(bg = \"black\")\n",
    "clock_window.resizable(False, False)"
   ]
  },
  {
   "cell_type": "markdown",
   "id": "05154df4",
   "metadata": {},
   "source": [
    "## We then configure the label of the clock using the Label method we imported from the tkinter library. "
   ]
  },
  {
   "cell_type": "code",
   "execution_count": 3,
   "id": "86479fa5",
   "metadata": {},
   "outputs": [],
   "source": [
    "clock_label = Label(clock_window, bg = \"black\", fg = \"white\", font = (\"Helvetica\", 36, \"bold\"), relief = \"flat\")\n",
    "clock_label.place(x = 20, y = 20)"
   ]
  },
  {
   "cell_type": "markdown",
   "id": "6d3c3558",
   "metadata": {},
   "source": [
    "## We then create a function that will update the labels in the clock_window with the current date and time."
   ]
  },
  {
   "cell_type": "code",
   "execution_count": 4,
   "id": "bf2b4cea",
   "metadata": {},
   "outputs": [],
   "source": [
    "def update_labels():\n",
    "    current_time = strftime(\"%H: %M: %S\")\n",
    "    clock_label.configure(text = current_time)\n",
    "    clock_label.after(80, update_labels)"
   ]
  },
  {
   "cell_type": "markdown",
   "id": "a6e237dc",
   "metadata": {},
   "source": [
    "## In order to display the clock we created, we simply run the function above. We also run the mainloop() function to prevent the clock widget from terminating imediately."
   ]
  },
  {
   "cell_type": "code",
   "execution_count": 5,
   "id": "dd5ad744",
   "metadata": {},
   "outputs": [],
   "source": [
    "update_labels()\n",
    "clock_window.mainloop()"
   ]
  }
 ],
 "metadata": {
  "kernelspec": {
   "display_name": "Python 3 (ipykernel)",
   "language": "python",
   "name": "python3"
  },
  "language_info": {
   "codemirror_mode": {
    "name": "ipython",
    "version": 3
   },
   "file_extension": ".py",
   "mimetype": "text/x-python",
   "name": "python",
   "nbconvert_exporter": "python",
   "pygments_lexer": "ipython3",
   "version": "3.9.13"
  }
 },
 "nbformat": 4,
 "nbformat_minor": 5
}
